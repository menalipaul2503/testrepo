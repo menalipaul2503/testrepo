{
  "cells": [
    {
      "cell_type": "markdown",
      "metadata": {
        "id": "view-in-github",
        "colab_type": "text"
      },
      "source": [
        "<a href=\"https://colab.research.google.com/github/menalipaul2503/testrepo/blob/main/Collecting_Jobs_data_Using_API_Questions.ipynb\" target=\"_parent\"><img src=\"https://colab.research.google.com/assets/colab-badge.svg\" alt=\"Open In Colab\"/></a>"
      ]
    },
    {
      "cell_type": "markdown",
      "metadata": {
        "id": "w3k1qox1fLQ_"
      },
      "source": [
        "<p style=\"text-align:center\">\n",
        "    <a href=\"https://skills.network/?utm_medium=Exinfluencer&utm_source=Exinfluencer&utm_content=000026UJ&utm_term=10006555&utm_id=NA-SkillsNetwork-Channel-SkillsNetworkCoursesIBMDA0321ENSkillsNetwork21426264-2022-01-01\" target=\"_blank\">\n",
        "    <img src=\"https://cf-courses-data.s3.us.cloud-object-storage.appdomain.cloud/assets/logos/SN_web_lightmode.png\" width=\"200\" alt=\"Skills Network Logo\"  />\n",
        "    </a>\n",
        "</p>\n"
      ]
    },
    {
      "cell_type": "markdown",
      "metadata": {
        "id": "DKNUfRdifLRI"
      },
      "source": [
        "# **Collecting Job Data Using APIs**\n"
      ]
    },
    {
      "cell_type": "markdown",
      "metadata": {
        "id": "2SgSh28ffLRJ"
      },
      "source": [
        "Estimated time needed: **45 to 60** minutes\n"
      ]
    },
    {
      "cell_type": "markdown",
      "metadata": {
        "id": "QvkW4VD7fLRK"
      },
      "source": [
        "## Objectives\n"
      ]
    },
    {
      "cell_type": "markdown",
      "metadata": {
        "id": "jEEz-nZifLRL"
      },
      "source": [
        "After completing this lab, you will be able to:\n"
      ]
    },
    {
      "cell_type": "markdown",
      "metadata": {
        "id": "8LNQ5RltfLRM"
      },
      "source": [
        "*   Collect job data from Jobs API\n",
        "*   Store the collected data into an excel spreadsheet.\n"
      ]
    },
    {
      "cell_type": "markdown",
      "metadata": {
        "id": "ud3UfL6VfLRN"
      },
      "source": [
        "> <strong>Note: Before starting with the assignment make sure to read all the instructions and then move ahead with the coding part.</strong>\n"
      ]
    },
    {
      "cell_type": "markdown",
      "metadata": {
        "id": "cvMasLPPfLRP"
      },
      "source": [
        "#### Instructions\n"
      ]
    },
    {
      "cell_type": "markdown",
      "metadata": {
        "id": "PSd6ZRctfLRQ"
      },
      "source": [
        "To run the actual lab, firstly you need to click on the [Jobs_API](https://cf-courses-data.s3.us.cloud-object-storage.appdomain.cloud/IBM-DA0321EN-SkillsNetwork/labs/module%201/Accessing%20Data%20Using%20APIs/Jobs_API.ipynb) notebook link. The file contains flask code which is required to run the Jobs API data.\n",
        "\n",
        "Now, to run the code in the file that opens up follow the below steps.\n",
        "\n",
        "Step1: Download the file.\n",
        "\n",
        "Step2: Upload it on the IBM Watson studio. (If IBM Watson Cloud service does not work in your system, follow the alternate Step 2 below)\n",
        "\n",
        "Step2(alternate): Upload it in your SN labs environment using the upload button which is highlighted in red in the image below:\n",
        "Remember to upload this Jobs_API file in the same folder as your current .ipynb file\n",
        "\n",
        "<img src=\"https://cf-courses-data.s3.us.cloud-object-storage.appdomain.cloud/IBM-DA0321EN-SkillsNetwork/labs/module%201/Accessing%20Data%20Using%20APIs/Upload.PNG\" />\n",
        "\n",
        "Step3:  Run all the cells of the Jobs_API file. (Even if you receive an asterik sign after running the last cell, the code works fine.)\n",
        "\n",
        "If you want to learn more about flask, which is optional, you can click on this link [here](https://cf-courses-data.s3.us.cloud-object-storage.appdomain.cloud/IBM-DA0321EN-SkillsNetwork/labs/module%201/Accessing%20Data%20Using%20APIs/FLASK_API.md.html).\n",
        "\n",
        "Once you run the flask code, you can start with your assignment.\n"
      ]
    },
    {
      "cell_type": "markdown",
      "metadata": {
        "id": "jLg0LoxXfLRS"
      },
      "source": [
        "## Dataset Used in this Assignment\n",
        "\n",
        "The dataset used in this lab comes from the following source: [https://www.kaggle.com/promptcloud/jobs-on-naukricom](https://www.kaggle.com/promptcloud/jobs-on-naukricom?utm_medium=Exinfluencer&utm_source=Exinfluencer&utm_content=000026UJ&utm_term=10006555&utm_id=NA-SkillsNetwork-Channel-SkillsNetworkCoursesIBMDA0321ENSkillsNetwork21426264-2022-01-01) under the under a **Public Domain license**.\n",
        "\n",
        "> Note: We are using a modified subset of that dataset for the lab, so to follow the lab instructions successfully please use the dataset provided with the lab, rather than the dataset from the original source.\n",
        "\n",
        "The original dataset is a csv. We have converted the csv to json as per the requirement of the lab.\n"
      ]
    },
    {
      "cell_type": "markdown",
      "metadata": {
        "id": "BEDeLSC9fLRT"
      },
      "source": [
        "## Warm-Up Exercise\n"
      ]
    },
    {
      "cell_type": "markdown",
      "metadata": {
        "id": "9cDKIVPMfLRU"
      },
      "source": [
        "Before you attempt the actual lab, here is a fully solved warmup exercise that will help you to learn how to access an API.\n"
      ]
    },
    {
      "cell_type": "markdown",
      "metadata": {
        "id": "rk-vO7rNfLRV"
      },
      "source": [
        "Using an API, let us find out who currently are on the International Space Station (ISS).<br> The API at [http://api.open-notify.org/astros.json](http://api.open-notify.org/astros.json?utm_medium=Exinfluencer&utm_source=Exinfluencer&utm_content=000026UJ&utm_term=10006555&utm_id=NA-SkillsNetwork-Channel-SkillsNetworkCoursesIBMDA0321ENSkillsNetwork21426264-2021-01-01&cm_mmc=Email_Newsletter-\\_-Developer_Ed%2BTech-\\_-WW_WW-\\_-SkillsNetwork-Courses-IBM-DA0321EN-SkillsNetwork-21426264&cm_mmca1=000026UJ&cm_mmca2=10006555&cm_mmca3=M12345678&cvosrc=email.Newsletter.M12345678&cvo_campaign=000026UJ) gives us the information of astronauts currently on ISS in json format.<br>\n",
        "You can read more about this API at [http://open-notify.org/Open-Notify-API/People-In-Space/](http://open-notify.org/Open-Notify-API/People-In-Space?utm_medium=Exinfluencer&utm_source=Exinfluencer&utm_content=000026UJ&utm_term=10006555&utm_id=NA-SkillsNetwork-Channel-SkillsNetworkCoursesIBMDA0321ENSkillsNetwork21426264-2021-01-01&cm_mmc=Email_Newsletter-\\_-Developer_Ed%2BTech-\\_-WW_WW-\\_-SkillsNetwork-Courses-IBM-DA0321EN-SkillsNetwork-21426264&cm_mmca1=000026UJ&cm_mmca2=10006555&cm_mmca3=M12345678&cvosrc=email.Newsletter.M12345678&cvo_campaign=000026UJ)\n"
      ]
    },
    {
      "cell_type": "code",
      "execution_count": null,
      "metadata": {
        "id": "nXpo-uwvfLRX"
      },
      "outputs": [],
      "source": [
        "import requests # you need this module to make an API call\n",
        "import pandas as pd"
      ]
    },
    {
      "cell_type": "code",
      "execution_count": null,
      "metadata": {
        "id": "2_fjyghqfLRa"
      },
      "outputs": [],
      "source": [
        "api_url = \"http://api.open-notify.org/astros.json\" # this url gives use the astronaut data"
      ]
    },
    {
      "cell_type": "code",
      "execution_count": null,
      "metadata": {
        "id": "ngNmhV_FfLRb"
      },
      "outputs": [],
      "source": [
        "response = requests.get(api_url) # Call the API using the get method and store the\n",
        "                                # output of the API call in a variable called response."
      ]
    },
    {
      "cell_type": "code",
      "execution_count": null,
      "metadata": {
        "id": "k2kZ4OeafLRc"
      },
      "outputs": [],
      "source": [
        "if response.ok:             # if all is well() no errors, no network timeouts)\n",
        "    data = response.json()  # store the result in json format in a variable called data\n",
        "                            # the variable data is of type dictionary."
      ]
    },
    {
      "cell_type": "code",
      "execution_count": null,
      "metadata": {
        "id": "gUSA47pLfLRc"
      },
      "outputs": [],
      "source": []
    },
    {
      "cell_type": "code",
      "execution_count": null,
      "metadata": {
        "colab": {
          "base_uri": "https://localhost:8080/"
        },
        "id": "Hu3T_gXofLRd",
        "outputId": "4b77e579-ad4f-4888-e46d-d8410ae43d2a"
      },
      "outputs": [
        {
          "output_type": "stream",
          "name": "stdout",
          "text": [
            "{'message': 'success', 'people': [{'name': 'Cai Xuzhe', 'craft': 'Tiangong'}, {'name': 'Chen Dong', 'craft': 'Tiangong'}, {'name': 'Liu Yang', 'craft': 'Tiangong'}, {'name': 'Sergey Prokopyev', 'craft': 'ISS'}, {'name': 'Dmitry Petelin', 'craft': 'ISS'}, {'name': 'Frank Rubio', 'craft': 'ISS'}, {'name': 'Nicole Mann', 'craft': 'ISS'}, {'name': 'Josh Cassada', 'craft': 'ISS'}, {'name': 'Koichi Wakata', 'craft': 'ISS'}, {'name': 'Anna Kikina', 'craft': 'ISS'}], 'number': 10}\n"
          ]
        }
      ],
      "source": [
        "print(data)   # print the data just to check the output or for debugging"
      ]
    },
    {
      "cell_type": "markdown",
      "metadata": {
        "id": "EHYhOgInfLRd"
      },
      "source": [
        "Print the number of astronauts currently on ISS.\n"
      ]
    },
    {
      "cell_type": "code",
      "execution_count": null,
      "metadata": {
        "colab": {
          "base_uri": "https://localhost:8080/"
        },
        "id": "uzrcaLUNfLRe",
        "outputId": "b533fd05-5162-44fe-b935-d3ceccf0b282"
      },
      "outputs": [
        {
          "output_type": "stream",
          "name": "stdout",
          "text": [
            "10\n"
          ]
        }
      ],
      "source": [
        "print(data.get('number'))"
      ]
    },
    {
      "cell_type": "markdown",
      "metadata": {
        "id": "S-6H_7R8fLRe"
      },
      "source": [
        "Print the names of the astronauts currently on ISS.\n"
      ]
    },
    {
      "cell_type": "code",
      "execution_count": null,
      "metadata": {
        "colab": {
          "base_uri": "https://localhost:8080/"
        },
        "id": "JTqeEORsfLRf",
        "outputId": "30aa8e89-3626-4356-8323-140b650fbe3c"
      },
      "outputs": [
        {
          "output_type": "stream",
          "name": "stdout",
          "text": [
            "There are 10 astronauts on ISS\n",
            "And their names are :\n",
            "Cai Xuzhe\n",
            "Chen Dong\n",
            "Liu Yang\n",
            "Sergey Prokopyev\n",
            "Dmitry Petelin\n",
            "Frank Rubio\n",
            "Nicole Mann\n",
            "Josh Cassada\n",
            "Koichi Wakata\n",
            "Anna Kikina\n"
          ]
        }
      ],
      "source": [
        "astronauts = data.get('people')\n",
        "print(\"There are {} astronauts on ISS\".format(len(astronauts)))\n",
        "print(\"And their names are :\")\n",
        "for astronaut in astronauts:\n",
        "    print(astronaut.get('name'))"
      ]
    },
    {
      "cell_type": "markdown",
      "metadata": {
        "id": "LOW-NXRefLRf"
      },
      "source": [
        "Hope the warmup was helpful. Good luck with your next lab!\n"
      ]
    },
    {
      "cell_type": "markdown",
      "metadata": {
        "id": "Xu4xm78EfLRg"
      },
      "source": [
        "## Lab: Collect Jobs Data using Jobs API\n"
      ]
    },
    {
      "cell_type": "markdown",
      "metadata": {
        "id": "jtNnwhe1fLRg"
      },
      "source": [
        "### Objective: Determine the number of jobs currently open for various technologies  and for various locations\n"
      ]
    },
    {
      "cell_type": "markdown",
      "metadata": {
        "id": "OFrofXlqfLRh"
      },
      "source": [
        "Collect the number of job postings for the following locations using the API:\n",
        "\n",
        "*   Los Angeles\n",
        "*   New York\n",
        "*   San Francisco\n",
        "*   Washington DC\n",
        "*   Seattle\n",
        "*   Austin\n",
        "*   Detroit\n"
      ]
    },
    {
      "cell_type": "code",
      "execution_count": null,
      "metadata": {
        "id": "Zw9xuk_TfLRh"
      },
      "outputs": [],
      "source": [
        "#Import required libraries\n",
        "import pandas as pd\n",
        "import json"
      ]
    },
    {
      "cell_type": "markdown",
      "metadata": {
        "id": "VUDxSlm0fLRi"
      },
      "source": [
        "#### Write a function to get the number of jobs for the Python technology.<br>\n",
        "\n",
        "> Note: While using the lab you need to pass the **payload** information for the **params** attribute in the form of **key** **value** pairs.\n",
        "\n",
        "Refer the ungraded **rest api lab** in the course **Python for Data Science, AI & Development**  <a href=\"https://www.coursera.org/learn/python-for-applied-data-science-ai/ungradedLti/P6sW8/hands-on-lab-access-rest-apis-request-http?utm_medium=Exinfluencer&utm_source=Exinfluencer&utm_content=000026UJ&utm_term=10006555&utm_id=NA-SkillsNetwork-Channel-SkillsNetworkCoursesIBMDA0321ENSkillsNetwork21426264-2022-01-01\">link</a>\n",
        "\n",
        "##### The keys in the json are\n",
        "\n",
        "*   Job Title\n",
        "\n",
        "*   Job Experience Required\n",
        "\n",
        "*   Key Skills\n",
        "\n",
        "*   Role Category\n",
        "\n",
        "*   Location\n",
        "\n",
        "*   Functional Area\n",
        "\n",
        "*   Industry\n",
        "\n",
        "*   Role\n",
        "\n",
        "You can also view  the json file contents  from the following <a href = \"https://cf-courses-data.s3.us.cloud-object-storage.appdomain.cloud/IBM-DA0321EN-SkillsNetwork/labs/module%201/Accessing%20Data%20Using%20APIs/jobs.json?utm_medium=Exinfluencer&utm_source=Exinfluencer&utm_content=000026UJ&utm_term=10006555&utm_id=NA-SkillsNetwork-Channel-SkillsNetworkCoursesIBMDA0321ENSkillsNetwork21426264-2022-01-01\">json</a> URL.\n"
      ]
    },
    {
      "cell_type": "code",
      "execution_count": null,
      "metadata": {
        "id": "Xo8xH2XnfLRi"
      },
      "outputs": [],
      "source": [
        "api_url=\"http://127.0.0.1:5000/data\"\n",
        "def get_number_of_jobs_T(technology):\n",
        "    \n",
        "    #your code goes here\n",
        "    return technology,number_of_jobs"
      ]
    },
    {
      "cell_type": "markdown",
      "metadata": {
        "id": "jHClCy2FfLRj"
      },
      "source": [
        "Calling the function for Python and checking if it works.\n"
      ]
    },
    {
      "cell_type": "code",
      "execution_count": null,
      "metadata": {
        "id": "UMnEevTEfLRj"
      },
      "outputs": [],
      "source": [
        "get_number_of_jobs_T(\"Python\")"
      ]
    },
    {
      "cell_type": "markdown",
      "metadata": {
        "id": "1vZ22cX_fLRk"
      },
      "source": [
        "#### Write a function to find number of jobs in US for a location of your choice\n"
      ]
    },
    {
      "cell_type": "code",
      "execution_count": null,
      "metadata": {
        "id": "1llUtUYtfLRk"
      },
      "outputs": [],
      "source": [
        "def get_number_of_jobs_L(location):\n",
        "    \n",
        "    #your coe goes here\n",
        "    return location,number_of_jobs"
      ]
    },
    {
      "cell_type": "markdown",
      "metadata": {
        "id": "CcLiu6yefLRl"
      },
      "source": [
        "Call the function for Los Angeles and check if it is working.\n"
      ]
    },
    {
      "cell_type": "code",
      "execution_count": null,
      "metadata": {
        "id": "JYPLy9r2fLRl"
      },
      "outputs": [],
      "source": [
        "#your code goes here\n"
      ]
    },
    {
      "cell_type": "markdown",
      "metadata": {
        "id": "Id32XkN9fLRl"
      },
      "source": [
        "### Store the results in an excel file\n"
      ]
    },
    {
      "cell_type": "markdown",
      "metadata": {
        "id": "-yeBEvhgfLRm"
      },
      "source": [
        "Call the API for all the given technologies above and write the results in an excel spreadsheet.\n"
      ]
    },
    {
      "cell_type": "markdown",
      "metadata": {
        "id": "omQHMKTIfLRm"
      },
      "source": [
        "If you do not know how create excel file using python, double click here for **hints**.\n",
        "\n",
        "<!--\n",
        "\n",
        "from openpyxl import Workbook        # import Workbook class from module openpyxl\n",
        "wb=Workbook()                        # create a workbook object\n",
        "ws=wb.active                         # use the active worksheet\n",
        "ws.append(['Country','Continent'])   # add a row with two columns 'Country' and 'Continent'\n",
        "ws.append(['Eygpt','Africa'])        # add a row with two columns 'Egypt' and 'Africa'\n",
        "ws.append(['India','Asia'])          # add another row\n",
        "ws.append(['France','Europe'])       # add another row\n",
        "wb.save(\"countries.xlsx\")            # save the workbook into a file called countries.xlsx\n",
        "\n",
        "\n",
        "-->\n"
      ]
    },
    {
      "cell_type": "markdown",
      "metadata": {
        "id": "sqfGTHRtfLRn"
      },
      "source": [
        "Create a python list of all locations for which you need to find the number of jobs postings.\n"
      ]
    },
    {
      "cell_type": "code",
      "execution_count": null,
      "metadata": {
        "colab": {
          "base_uri": "https://localhost:8080/"
        },
        "id": "vB2RgeuefLRn",
        "outputId": "346e8135-95a8-4d93-c8f5-851e81f3bd4e"
      },
      "outputs": [
        {
          "output_type": "execute_result",
          "data": {
            "text/plain": [
              "['C',\n",
              " 'C%23',\n",
              " 'C%2B%2B',\n",
              " 'Java',\n",
              " 'JavaScript',\n",
              " 'Python',\n",
              " 'Scala',\n",
              " 'Oracle',\n",
              " 'SQL Server',\n",
              " 'MySQL Server',\n",
              " 'PostgreSQL',\n",
              " 'MongoDB']"
            ]
          },
          "metadata": {},
          "execution_count": 8
        }
      ],
      "source": [
        "technologies = ['C','C%23','C%2B%2B','Java','JavaScript','Python','Scala','Oracle','SQL Server','MySQL Server','PostgreSQL','MongoDB']\n",
        "technologies\n"
      ]
    },
    {
      "cell_type": "markdown",
      "metadata": {
        "id": "RmATCrI8fLRn"
      },
      "source": [
        "Import libraries required to create excel spreadsheet\n"
      ]
    },
    {
      "cell_type": "code",
      "execution_count": null,
      "metadata": {
        "colab": {
          "base_uri": "https://localhost:8080/"
        },
        "id": "6SEQR64MfLRo",
        "outputId": "094c96c5-4a65-4548-dc37-c5d29a066e92"
      },
      "outputs": [
        {
          "output_type": "stream",
          "name": "stdout",
          "text": [
            "Looking in indexes: https://pypi.org/simple, https://us-python.pkg.dev/colab-wheels/public/simple/\n",
            "Requirement already satisfied: openpyxl in /usr/local/lib/python3.7/dist-packages (3.0.10)\n",
            "Requirement already satisfied: et-xmlfile in /usr/local/lib/python3.7/dist-packages (from openpyxl) (1.1.0)\n"
          ]
        }
      ],
      "source": [
        "# your code goes here\n",
        "!pip3 install openpyxl\n",
        "from openpyxl import Workbook"
      ]
    },
    {
      "cell_type": "markdown",
      "metadata": {
        "id": "zS4GeCZJfLRo"
      },
      "source": [
        "Create a workbook and select the active worksheet\n"
      ]
    },
    {
      "cell_type": "code",
      "execution_count": null,
      "metadata": {
        "colab": {
          "base_uri": "https://localhost:8080/"
        },
        "id": "Zk-QX7zqfLRp",
        "outputId": "c4c7fdf8-8aee-4992-a4e1-05a87e1494ec"
      },
      "outputs": [
        {
          "output_type": "execute_result",
          "data": {
            "text/plain": [
              "<Worksheet \"Sheet\">"
            ]
          },
          "metadata": {},
          "execution_count": 11
        }
      ],
      "source": [
        "wb=Workbook() \n",
        "ws=wb.active\n",
        "ws"
      ]
    },
    {
      "cell_type": "markdown",
      "metadata": {
        "id": "S5YQ4V18fLRp"
      },
      "source": [
        "Find the number of jobs postings for each of the location in the above list.\n",
        "Write the Location name and the number of jobs postings into the excel spreadsheet.\n"
      ]
    },
    {
      "cell_type": "code",
      "execution_count": null,
      "metadata": {
        "colab": {
          "base_uri": "https://localhost:8080/",
          "height": 235
        },
        "id": "OgEcf90sfLRq",
        "outputId": "bf91339e-8850-419e-e9b6-b02b4f440254"
      },
      "outputs": [
        {
          "output_type": "error",
          "ename": "NameError",
          "evalue": "ignored",
          "traceback": [
            "\u001b[0;31m---------------------------------------------------------------------------\u001b[0m",
            "\u001b[0;31mNameError\u001b[0m                                 Traceback (most recent call last)",
            "\u001b[0;32m<ipython-input-12-3b0751dc2e98>\u001b[0m in \u001b[0;36m<module>\u001b[0;34m\u001b[0m\n\u001b[1;32m      2\u001b[0m \u001b[0mtech_list\u001b[0m \u001b[0;34m=\u001b[0m \u001b[0mlist\u001b[0m\u001b[0;34m(\u001b[0m\u001b[0;34m)\u001b[0m\u001b[0;34m\u001b[0m\u001b[0;34m\u001b[0m\u001b[0m\n\u001b[1;32m      3\u001b[0m \u001b[0;32mfor\u001b[0m \u001b[0mlanguage\u001b[0m \u001b[0;32min\u001b[0m \u001b[0mtechnologies\u001b[0m\u001b[0;34m:\u001b[0m\u001b[0;34m\u001b[0m\u001b[0;34m\u001b[0m\u001b[0m\n\u001b[0;32m----> 4\u001b[0;31m     \u001b[0mjobs\u001b[0m \u001b[0;34m=\u001b[0m \u001b[0mget_number_of_jobs\u001b[0m\u001b[0;34m(\u001b[0m\u001b[0mlanguage\u001b[0m\u001b[0;34m)\u001b[0m\u001b[0;34m\u001b[0m\u001b[0;34m\u001b[0m\u001b[0m\n\u001b[0m\u001b[1;32m      5\u001b[0m     \u001b[0mtech_list\u001b[0m\u001b[0;34m.\u001b[0m\u001b[0mappend\u001b[0m\u001b[0;34m(\u001b[0m\u001b[0mjobs\u001b[0m\u001b[0;34m)\u001b[0m\u001b[0;34m\u001b[0m\u001b[0;34m\u001b[0m\u001b[0m\n\u001b[1;32m      6\u001b[0m \u001b[0;34m\u001b[0m\u001b[0m\n",
            "\u001b[0;31mNameError\u001b[0m: name 'get_number_of_jobs' is not defined"
          ]
        }
      ],
      "source": [
        "#your code goes here\n",
        "tech_list = list()\n",
        "for language in technologies:\n",
        "    jobs = get_number_of_jobs(language)\n",
        "    tech_list.append(jobs)\n",
        "    \n",
        "ws.append(['Language', 'Job Postings'])\n",
        "[ws.append(i) for i in tech_list]"
      ]
    },
    {
      "cell_type": "markdown",
      "metadata": {
        "id": "XOgqB3CMfLRq"
      },
      "source": [
        "Save into an excel spreadsheet named 'job-postings.xlsx'.\n"
      ]
    },
    {
      "cell_type": "code",
      "execution_count": null,
      "metadata": {
        "id": "kznzP2ugfLRq"
      },
      "outputs": [],
      "source": [
        "#your code goes here\n",
        "wb.save(\"github-job-postings.xlsx\")"
      ]
    },
    {
      "cell_type": "markdown",
      "metadata": {
        "id": "br8t62_rfLRr"
      },
      "source": [
        "#### In the similar way, you can try for below given technologies and results  can be stored in an excel sheet.\n"
      ]
    },
    {
      "cell_type": "markdown",
      "metadata": {
        "id": "Lf8hMIXkfLRr"
      },
      "source": [
        "Collect the number of job postings for the following languages using the API:\n",
        "\n",
        "*   C\n",
        "*   C#\n",
        "*   C++\n",
        "*   Java\n",
        "*   JavaScript\n",
        "*   Python\n",
        "*   Scala\n",
        "*   Oracle\n",
        "*   SQL Server\n",
        "*   MySQL Server\n",
        "*   PostgreSQL\n",
        "*   MongoDB\n"
      ]
    },
    {
      "cell_type": "code",
      "execution_count": null,
      "metadata": {
        "colab": {
          "base_uri": "https://localhost:8080/"
        },
        "id": "zx4icXo4fLRs",
        "outputId": "ca0408d2-f6c9-487c-eeca-f004373241e6"
      },
      "outputs": [
        {
          "output_type": "stream",
          "name": "stdout",
          "text": [
            "/content/github-job-postings.xlsx\n",
            "Empty DataFrame\n",
            "Columns: []\n",
            "Index: []\n"
          ]
        }
      ],
      "source": [
        "import pandas as pd\n",
        "import os\n",
        "print (os.path.abspath(\"github-job-postings.xlsx\"))\n",
        "filename=\"path/github-job-postings.xlsx\"\n",
        "df=pd.read_excel(\"github-job-postings.xlsx\")\n",
        "print(df)\n"
      ]
    },
    {
      "cell_type": "markdown",
      "metadata": {
        "id": "OhRL3tTNfLRs"
      },
      "source": [
        "## Author\n"
      ]
    },
    {
      "cell_type": "markdown",
      "metadata": {
        "id": "PK6lQ9EEfLRs"
      },
      "source": [
        "Ayushi Jain\n"
      ]
    },
    {
      "cell_type": "markdown",
      "metadata": {
        "id": "2Ey3szwffLRt"
      },
      "source": [
        "### Other Contributors\n"
      ]
    },
    {
      "cell_type": "markdown",
      "metadata": {
        "id": "ELmfZiA5fLRt"
      },
      "source": [
        "Rav Ahuja\n",
        "\n",
        "Lakshmi Holla\n",
        "\n",
        "Malika\n"
      ]
    },
    {
      "cell_type": "markdown",
      "metadata": {
        "id": "VEowiQtofLRt"
      },
      "source": [
        "## Change Log\n"
      ]
    },
    {
      "cell_type": "markdown",
      "metadata": {
        "id": "RjAZLxF-fLRu"
      },
      "source": [
        "| Date (YYYY-MM-DD) | Version | Changed By        | Change Description                 |\n",
        "| ----------------- | ------- | ----------------- | ---------------------------------- |\n",
        "| 2022-01-19        | 0.3     | Lakshmi Holla     | Added changes in the markdown      |\n",
        "| 2021-06-25        | 0.2     | Malika            | Updated GitHub job json link       |\n",
        "| 2020-10-17        | 0.1     | Ramesh Sannareddy | Created initial version of the lab |\n"
      ]
    },
    {
      "cell_type": "markdown",
      "metadata": {
        "id": "X5poluu4fLRu"
      },
      "source": [
        "Copyright © 2022 IBM Corporation. All rights reserved.\n"
      ]
    }
  ],
  "metadata": {
    "kernelspec": {
      "display_name": "Python",
      "language": "python",
      "name": "conda-env-python-py"
    },
    "language_info": {
      "codemirror_mode": {
        "name": "ipython",
        "version": 3
      },
      "file_extension": ".py",
      "mimetype": "text/x-python",
      "name": "python",
      "nbconvert_exporter": "python",
      "pygments_lexer": "ipython3",
      "version": "3.7.12"
    },
    "colab": {
      "provenance": [],
      "include_colab_link": true
    }
  },
  "nbformat": 4,
  "nbformat_minor": 0
}